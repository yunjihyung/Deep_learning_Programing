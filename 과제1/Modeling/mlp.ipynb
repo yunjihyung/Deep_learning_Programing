{
 "cells": [
  {
   "cell_type": "code",
   "execution_count": 12,
   "metadata": {
    "executionInfo": {
     "elapsed": 4571,
     "status": "ok",
     "timestamp": 1742319598167,
     "user": {
      "displayName": "jihyung yun",
      "userId": "05665543950090663005"
     },
     "user_tz": -540
    },
    "id": "IHVGIXFeVsV9"
   },
   "outputs": [],
   "source": [
    "import pandas as pd\n",
    "import torch\n",
    "from torch import nn\n",
    "from torch.utils.data import DataLoader, Dataset\n",
    "import numpy as np\n",
    "import matplotlib.pyplot as plt"
   ]
  },
  {
   "cell_type": "code",
   "execution_count": 13,
   "metadata": {
    "colab": {
     "base_uri": "https://localhost:8080/"
    },
    "executionInfo": {
     "elapsed": 18535,
     "status": "ok",
     "timestamp": 1742319616718,
     "user": {
      "displayName": "jihyung yun",
      "userId": "05665543950090663005"
     },
     "user_tz": -540
    },
    "id": "08joeyqcVxT9",
    "outputId": "26417d18-c2c0-4cd6-f58d-9a89bf874029"
   },
   "outputs": [],
   "source": [
    "# from google.colab import drive\n",
    "# drive.mount('/content/drive')"
   ]
  },
  {
   "cell_type": "code",
   "execution_count": 14,
   "metadata": {
    "executionInfo": {
     "elapsed": 5,
     "status": "ok",
     "timestamp": 1742319646445,
     "user": {
      "displayName": "jihyung yun",
      "userId": "05665543950090663005"
     },
     "user_tz": -540
    },
    "id": "0uzi2hSSVzQs"
   },
   "outputs": [],
   "source": [
    "# import os\n",
    "# os.chdir('/content/drive/MyDrive/과제1/Modeling')"
   ]
  },
  {
   "cell_type": "code",
   "execution_count": 15,
   "metadata": {
    "colab": {
     "base_uri": "https://localhost:8080/",
     "height": 36
    },
    "executionInfo": {
     "elapsed": 5,
     "status": "ok",
     "timestamp": 1742319666761,
     "user": {
      "displayName": "jihyung yun",
      "userId": "05665543950090663005"
     },
     "user_tz": -540
    },
    "id": "XR4jnIL6WD30",
    "outputId": "c571690f-81f2-4894-c069-216caa0d55bf"
   },
   "outputs": [],
   "source": [
    "#pwd"
   ]
  },
  {
   "cell_type": "code",
   "execution_count": 16,
   "metadata": {
    "colab": {
     "base_uri": "https://localhost:8080/",
     "height": 423
    },
    "executionInfo": {
     "elapsed": 175,
     "status": "ok",
     "timestamp": 1742319739368,
     "user": {
      "displayName": "jihyung yun",
      "userId": "05665543950090663005"
     },
     "user_tz": -540
    },
    "id": "sgulX05KVsWA",
    "outputId": "623eda8c-997b-451e-89af-c974c8e54315"
   },
   "outputs": [
    {
     "data": {
      "text/html": [
       "<div>\n",
       "<style scoped>\n",
       "    .dataframe tbody tr th:only-of-type {\n",
       "        vertical-align: middle;\n",
       "    }\n",
       "\n",
       "    .dataframe tbody tr th {\n",
       "        vertical-align: top;\n",
       "    }\n",
       "\n",
       "    .dataframe thead th {\n",
       "        text-align: right;\n",
       "    }\n",
       "</style>\n",
       "<table border=\"1\" class=\"dataframe\">\n",
       "  <thead>\n",
       "    <tr style=\"text-align: right;\">\n",
       "      <th></th>\n",
       "      <th>chest</th>\n",
       "      <th>arm</th>\n",
       "      <th>height</th>\n",
       "      <th>waist</th>\n",
       "      <th>crotch</th>\n",
       "      <th>head</th>\n",
       "      <th>foot</th>\n",
       "      <th>weight</th>\n",
       "    </tr>\n",
       "  </thead>\n",
       "  <tbody>\n",
       "    <tr>\n",
       "      <th>0</th>\n",
       "      <td>96.3</td>\n",
       "      <td>92.6</td>\n",
       "      <td>185.5</td>\n",
       "      <td>82.5</td>\n",
       "      <td>83.8</td>\n",
       "      <td>57.1</td>\n",
       "      <td>28.5</td>\n",
       "      <td>73.2</td>\n",
       "    </tr>\n",
       "    <tr>\n",
       "      <th>1</th>\n",
       "      <td>101.9</td>\n",
       "      <td>83.8</td>\n",
       "      <td>167.2</td>\n",
       "      <td>81.2</td>\n",
       "      <td>74.4</td>\n",
       "      <td>55.0</td>\n",
       "      <td>24.2</td>\n",
       "      <td>65.1</td>\n",
       "    </tr>\n",
       "    <tr>\n",
       "      <th>2</th>\n",
       "      <td>99.5</td>\n",
       "      <td>89.6</td>\n",
       "      <td>179.9</td>\n",
       "      <td>99.2</td>\n",
       "      <td>84.2</td>\n",
       "      <td>56.3</td>\n",
       "      <td>28.1</td>\n",
       "      <td>93.2</td>\n",
       "    </tr>\n",
       "    <tr>\n",
       "      <th>3</th>\n",
       "      <td>98.6</td>\n",
       "      <td>85.5</td>\n",
       "      <td>171.4</td>\n",
       "      <td>85.9</td>\n",
       "      <td>76.4</td>\n",
       "      <td>54.5</td>\n",
       "      <td>27.4</td>\n",
       "      <td>71.6</td>\n",
       "    </tr>\n",
       "    <tr>\n",
       "      <th>4</th>\n",
       "      <td>94.7</td>\n",
       "      <td>88.1</td>\n",
       "      <td>176.9</td>\n",
       "      <td>78.3</td>\n",
       "      <td>79.7</td>\n",
       "      <td>58.5</td>\n",
       "      <td>26.5</td>\n",
       "      <td>67.1</td>\n",
       "    </tr>\n",
       "    <tr>\n",
       "      <th>...</th>\n",
       "      <td>...</td>\n",
       "      <td>...</td>\n",
       "      <td>...</td>\n",
       "      <td>...</td>\n",
       "      <td>...</td>\n",
       "      <td>...</td>\n",
       "      <td>...</td>\n",
       "      <td>...</td>\n",
       "    </tr>\n",
       "    <tr>\n",
       "      <th>167974</th>\n",
       "      <td>100.6</td>\n",
       "      <td>86.4</td>\n",
       "      <td>173.2</td>\n",
       "      <td>86.7</td>\n",
       "      <td>77.1</td>\n",
       "      <td>56.9</td>\n",
       "      <td>27.1</td>\n",
       "      <td>73.7</td>\n",
       "    </tr>\n",
       "    <tr>\n",
       "      <th>167975</th>\n",
       "      <td>97.9</td>\n",
       "      <td>82.7</td>\n",
       "      <td>166.3</td>\n",
       "      <td>90.5</td>\n",
       "      <td>73.4</td>\n",
       "      <td>61.5</td>\n",
       "      <td>28.8</td>\n",
       "      <td>70.7</td>\n",
       "    </tr>\n",
       "    <tr>\n",
       "      <th>167976</th>\n",
       "      <td>97.9</td>\n",
       "      <td>87.2</td>\n",
       "      <td>175.2</td>\n",
       "      <td>94.3</td>\n",
       "      <td>83.1</td>\n",
       "      <td>57.1</td>\n",
       "      <td>27.6</td>\n",
       "      <td>78.7</td>\n",
       "    </tr>\n",
       "    <tr>\n",
       "      <th>167977</th>\n",
       "      <td>85.3</td>\n",
       "      <td>86.8</td>\n",
       "      <td>173.6</td>\n",
       "      <td>75.9</td>\n",
       "      <td>76.6</td>\n",
       "      <td>57.6</td>\n",
       "      <td>24.3</td>\n",
       "      <td>57.4</td>\n",
       "    </tr>\n",
       "    <tr>\n",
       "      <th>167978</th>\n",
       "      <td>86.6</td>\n",
       "      <td>88.3</td>\n",
       "      <td>175.8</td>\n",
       "      <td>73.0</td>\n",
       "      <td>77.8</td>\n",
       "      <td>56.3</td>\n",
       "      <td>26.1</td>\n",
       "      <td>51.7</td>\n",
       "    </tr>\n",
       "  </tbody>\n",
       "</table>\n",
       "<p>167979 rows × 8 columns</p>\n",
       "</div>"
      ],
      "text/plain": [
       "        chest   arm  height  waist  crotch  head  foot  weight\n",
       "0        96.3  92.6   185.5   82.5    83.8  57.1  28.5    73.2\n",
       "1       101.9  83.8   167.2   81.2    74.4  55.0  24.2    65.1\n",
       "2        99.5  89.6   179.9   99.2    84.2  56.3  28.1    93.2\n",
       "3        98.6  85.5   171.4   85.9    76.4  54.5  27.4    71.6\n",
       "4        94.7  88.1   176.9   78.3    79.7  58.5  26.5    67.1\n",
       "...       ...   ...     ...    ...     ...   ...   ...     ...\n",
       "167974  100.6  86.4   173.2   86.7    77.1  56.9  27.1    73.7\n",
       "167975   97.9  82.7   166.3   90.5    73.4  61.5  28.8    70.7\n",
       "167976   97.9  87.2   175.2   94.3    83.1  57.1  27.6    78.7\n",
       "167977   85.3  86.8   173.6   75.9    76.6  57.6  24.3    57.4\n",
       "167978   86.6  88.3   175.8   73.0    77.8  56.3  26.1    51.7\n",
       "\n",
       "[167979 rows x 8 columns]"
      ]
     },
     "execution_count": 16,
     "metadata": {},
     "output_type": "execute_result"
    }
   ],
   "source": [
    "df = pd.read_csv(r'../dataset/preprocessed.csv')\n",
    "df"
   ]
  },
  {
   "cell_type": "code",
   "execution_count": 17,
   "metadata": {
    "executionInfo": {
     "elapsed": 38,
     "status": "ok",
     "timestamp": 1742319743226,
     "user": {
      "displayName": "jihyung yun",
      "userId": "05665543950090663005"
     },
     "user_tz": -540
    },
    "id": "btLsFEe2VsWB"
   },
   "outputs": [],
   "source": [
    "class MyDataset(Dataset):\n",
    "    def __init__(self,x,y):\n",
    "        self.X = torch.tensor(x, dtype=torch.float32)\n",
    "        self.y = torch.tensor(y.values, dtype=torch.float32)\n",
    "    def __getitem__(self,idx):\n",
    "        return self.X[idx], self.y[idx]\n",
    "    def __len__(self):\n",
    "        return len(self.X)\n"
   ]
  },
  {
   "cell_type": "code",
   "execution_count": 18,
   "metadata": {
    "executionInfo": {
     "elapsed": 858,
     "status": "ok",
     "timestamp": 1742319744383,
     "user": {
      "displayName": "jihyung yun",
      "userId": "05665543950090663005"
     },
     "user_tz": -540
    },
    "id": "x9Sczv1TVsWC"
   },
   "outputs": [],
   "source": [
    "from sklearn.model_selection import train_test_split\n",
    "from sklearn.preprocessing import StandardScaler\n",
    "\n",
    "X = df.drop(['height','weight'],axis=1)\n",
    "y = df[['height','weight']]\n",
    "X_train, X_test, y_train, y_test = train_test_split(X, y, test_size=0.2, random_state=42)\n",
    "scaler = StandardScaler()\n",
    "train_scaled = scaler.fit_transform(X_train)\n",
    "test_scaled = scaler.transform(X_test)"
   ]
  },
  {
   "cell_type": "code",
   "execution_count": 19,
   "metadata": {
    "executionInfo": {
     "elapsed": 44,
     "status": "ok",
     "timestamp": 1742319744429,
     "user": {
      "displayName": "jihyung yun",
      "userId": "05665543950090663005"
     },
     "user_tz": -540
    },
    "id": "EcvjVwTeVsWC"
   },
   "outputs": [],
   "source": [
    "train_dataset = MyDataset(train_scaled, y_train)\n",
    "test_dataset = MyDataset(test_scaled, y_test)"
   ]
  },
  {
   "cell_type": "code",
   "execution_count": 20,
   "metadata": {
    "executionInfo": {
     "elapsed": 2,
     "status": "ok",
     "timestamp": 1742319744814,
     "user": {
      "displayName": "jihyung yun",
      "userId": "05665543950090663005"
     },
     "user_tz": -540
    },
    "id": "DPcBQz6mVsWD"
   },
   "outputs": [],
   "source": [
    "train_loader = DataLoader(train_dataset, batch_size=32, shuffle=True)\n",
    "test_loader = DataLoader(test_dataset, batch_size=32, shuffle=False)"
   ]
  },
  {
   "cell_type": "code",
   "execution_count": 21,
   "metadata": {
    "executionInfo": {
     "elapsed": 3,
     "status": "ok",
     "timestamp": 1742321133100,
     "user": {
      "displayName": "jihyung yun",
      "userId": "05665543950090663005"
     },
     "user_tz": -540
    },
    "id": "CxX4vMdrVsWD"
   },
   "outputs": [],
   "source": [
    "model = nn.Sequential(\n",
    "    nn.Linear(6, 64),\n",
    "    nn.Sigmoid(),\n",
    "    nn.Linear(64, 32),\n",
    "    nn.Sigmoid(),\n",
    "    nn.Linear(32, 2),\n",
    ")\n",
    "loss_fn = nn.MSELoss()\n",
    "optimizer = torch.optim.Adam(model.parameters(), lr=0.001)"
   ]
  },
  {
   "cell_type": "code",
   "execution_count": 23,
   "metadata": {
    "executionInfo": {
     "elapsed": 42,
     "status": "ok",
     "timestamp": 1742321135765,
     "user": {
      "displayName": "jihyung yun",
      "userId": "05665543950090663005"
     },
     "user_tz": -540
    },
    "id": "osxKn4qla2gO"
   },
   "outputs": [],
   "source": [
    "from src.loop import train_loop, valid_loop\n",
    "train_history = []\n",
    "valid_history = []\n",
    "train_mae_history = []\n",
    "valid_mae_history = []"
   ]
  },
  {
   "cell_type": "code",
   "execution_count": 24,
   "metadata": {
    "colab": {
     "base_uri": "https://localhost:8080/"
    },
    "executionInfo": {
     "elapsed": 172575,
     "status": "ok",
     "timestamp": 1742321308739,
     "user": {
      "displayName": "jihyung yun",
      "userId": "05665543950090663005"
     },
     "user_tz": -540
    },
    "id": "XOAJx76eVsWE",
    "outputId": "e2b1d031-4c41-4964-f53d-1dd47b645ac6"
   },
   "outputs": [
    {
     "name": "stdout",
     "output_type": "stream",
     "text": [
      "Epoch 1\n"
     ]
    },
    {
     "name": "stderr",
     "output_type": "stream",
     "text": [
      " MAE loss: 40.89: 100%|██████████| 4200/4200 [00:07<00:00, 532.61it/s] \n"
     ]
    },
    {
     "name": "stdout",
     "output_type": "stream",
     "text": [
      "mae : 68.72 Validation MAE: 32.77\n",
      "Epoch 2\n"
     ]
    },
    {
     "name": "stderr",
     "output_type": "stream",
     "text": [
      " MAE loss: 8.66: 100%|██████████| 4200/4200 [00:07<00:00, 532.92it/s] \n"
     ]
    },
    {
     "name": "stdout",
     "output_type": "stream",
     "text": [
      "mae : 15.64 Validation MAE: 6.60\n",
      "Epoch 3\n"
     ]
    },
    {
     "name": "stderr",
     "output_type": "stream",
     "text": [
      " MAE loss: 6.77: 100%|██████████| 4200/4200 [00:07<00:00, 544.12it/s] \n"
     ]
    },
    {
     "name": "stdout",
     "output_type": "stream",
     "text": [
      "mae : 5.73 Validation MAE: 5.08\n",
      "Epoch 4\n"
     ]
    },
    {
     "name": "stderr",
     "output_type": "stream",
     "text": [
      " MAE loss: 2.68: 100%|██████████| 4200/4200 [00:07<00:00, 526.81it/s] \n"
     ]
    },
    {
     "name": "stdout",
     "output_type": "stream",
     "text": [
      "mae : 3.22 Validation MAE: 2.35\n",
      "Epoch 5\n"
     ]
    },
    {
     "name": "stderr",
     "output_type": "stream",
     "text": [
      " MAE loss: 2.68: 100%|██████████| 4200/4200 [00:07<00:00, 543.55it/s] \n"
     ]
    },
    {
     "name": "stdout",
     "output_type": "stream",
     "text": [
      "mae : 2.17 Validation MAE: 2.08\n",
      "Epoch 6\n"
     ]
    },
    {
     "name": "stderr",
     "output_type": "stream",
     "text": [
      " MAE loss: 1.46: 100%|██████████| 4200/4200 [00:07<00:00, 534.91it/s] \n"
     ]
    },
    {
     "name": "stdout",
     "output_type": "stream",
     "text": [
      "mae : 2.05 Validation MAE: 2.02\n",
      "Epoch 7\n"
     ]
    },
    {
     "name": "stderr",
     "output_type": "stream",
     "text": [
      " MAE loss: 5.57: 100%|██████████| 4200/4200 [00:07<00:00, 530.42it/s] \n"
     ]
    },
    {
     "name": "stdout",
     "output_type": "stream",
     "text": [
      "mae : 2.02 Validation MAE: 2.01\n",
      "Epoch 8\n"
     ]
    },
    {
     "name": "stderr",
     "output_type": "stream",
     "text": [
      " MAE loss: 3.73: 100%|██████████| 4200/4200 [00:07<00:00, 530.53it/s] \n"
     ]
    },
    {
     "name": "stdout",
     "output_type": "stream",
     "text": [
      "mae : 2.00 Validation MAE: 1.97\n",
      "Epoch 9\n"
     ]
    },
    {
     "name": "stderr",
     "output_type": "stream",
     "text": [
      " MAE loss: 3.43: 100%|██████████| 4200/4200 [00:07<00:00, 532.85it/s] \n"
     ]
    },
    {
     "name": "stdout",
     "output_type": "stream",
     "text": [
      "mae : 1.98 Validation MAE: 1.96\n",
      "Epoch 10\n"
     ]
    },
    {
     "name": "stderr",
     "output_type": "stream",
     "text": [
      " MAE loss: 2.41: 100%|██████████| 4200/4200 [00:07<00:00, 529.06it/s] \n"
     ]
    },
    {
     "name": "stdout",
     "output_type": "stream",
     "text": [
      "mae : 1.97 Validation MAE: 1.97\n",
      "Epoch 11\n"
     ]
    },
    {
     "name": "stderr",
     "output_type": "stream",
     "text": [
      " MAE loss: 3.14: 100%|██████████| 4200/4200 [00:07<00:00, 538.83it/s] \n"
     ]
    },
    {
     "name": "stdout",
     "output_type": "stream",
     "text": [
      "mae : 1.96 Validation MAE: 1.96\n",
      "Epoch 12\n"
     ]
    },
    {
     "name": "stderr",
     "output_type": "stream",
     "text": [
      " MAE loss: 3.36: 100%|██████████| 4200/4200 [00:07<00:00, 538.36it/s] \n"
     ]
    },
    {
     "name": "stdout",
     "output_type": "stream",
     "text": [
      "mae : 1.96 Validation MAE: 1.96\n",
      "Epoch 13\n"
     ]
    },
    {
     "name": "stderr",
     "output_type": "stream",
     "text": [
      " MAE loss: 3.51: 100%|██████████| 4200/4200 [00:07<00:00, 545.12it/s] \n"
     ]
    },
    {
     "name": "stdout",
     "output_type": "stream",
     "text": [
      "mae : 1.96 Validation MAE: 1.95\n",
      "Epoch 14\n"
     ]
    },
    {
     "name": "stderr",
     "output_type": "stream",
     "text": [
      " MAE loss: 3.41: 100%|██████████| 4200/4200 [00:07<00:00, 533.40it/s] \n"
     ]
    },
    {
     "name": "stdout",
     "output_type": "stream",
     "text": [
      "mae : 1.96 Validation MAE: 1.95\n",
      "Epoch 15\n"
     ]
    },
    {
     "name": "stderr",
     "output_type": "stream",
     "text": [
      " MAE loss: 2.82: 100%|██████████| 4200/4200 [00:07<00:00, 531.77it/s] \n"
     ]
    },
    {
     "name": "stdout",
     "output_type": "stream",
     "text": [
      "mae : 1.96 Validation MAE: 1.94\n",
      "Epoch 16\n"
     ]
    },
    {
     "name": "stderr",
     "output_type": "stream",
     "text": [
      " MAE loss: 2.79: 100%|██████████| 4200/4200 [00:08<00:00, 521.56it/s] \n"
     ]
    },
    {
     "name": "stdout",
     "output_type": "stream",
     "text": [
      "mae : 1.95 Validation MAE: 1.95\n",
      "Epoch 17\n"
     ]
    },
    {
     "name": "stderr",
     "output_type": "stream",
     "text": [
      " MAE loss: 2.48: 100%|██████████| 4200/4200 [00:07<00:00, 534.26it/s] \n"
     ]
    },
    {
     "name": "stdout",
     "output_type": "stream",
     "text": [
      "mae : 1.95 Validation MAE: 1.94\n",
      "Epoch 18\n"
     ]
    },
    {
     "name": "stderr",
     "output_type": "stream",
     "text": [
      " MAE loss: 4.02: 100%|██████████| 4200/4200 [00:07<00:00, 526.94it/s] \n"
     ]
    },
    {
     "name": "stdout",
     "output_type": "stream",
     "text": [
      "mae : 1.95 Validation MAE: 1.94\n",
      "Epoch 19\n"
     ]
    },
    {
     "name": "stderr",
     "output_type": "stream",
     "text": [
      " MAE loss: 4.56: 100%|██████████| 4200/4200 [00:07<00:00, 529.09it/s] \n"
     ]
    },
    {
     "name": "stdout",
     "output_type": "stream",
     "text": [
      "mae : 1.95 Validation MAE: 1.94\n",
      "Epoch 20\n"
     ]
    },
    {
     "name": "stderr",
     "output_type": "stream",
     "text": [
      " MAE loss: 2.90: 100%|██████████| 4200/4200 [00:07<00:00, 543.83it/s] \n"
     ]
    },
    {
     "name": "stdout",
     "output_type": "stream",
     "text": [
      "mae : 1.95 Validation MAE: 1.94\n",
      "Epoch 21\n"
     ]
    },
    {
     "name": "stderr",
     "output_type": "stream",
     "text": [
      " MAE loss: 3.07: 100%|██████████| 4200/4200 [00:07<00:00, 541.80it/s] \n"
     ]
    },
    {
     "name": "stdout",
     "output_type": "stream",
     "text": [
      "mae : 1.95 Validation MAE: 1.94\n",
      "Epoch 22\n"
     ]
    },
    {
     "name": "stderr",
     "output_type": "stream",
     "text": [
      " MAE loss: 3.03: 100%|██████████| 4200/4200 [00:07<00:00, 545.52it/s] \n"
     ]
    },
    {
     "name": "stdout",
     "output_type": "stream",
     "text": [
      "mae : 1.95 Validation MAE: 1.95\n",
      "Epoch 23\n"
     ]
    },
    {
     "name": "stderr",
     "output_type": "stream",
     "text": [
      " MAE loss: 2.87: 100%|██████████| 4200/4200 [00:07<00:00, 531.54it/s] \n"
     ]
    },
    {
     "name": "stdout",
     "output_type": "stream",
     "text": [
      "mae : 1.95 Validation MAE: 1.96\n",
      "Epoch 24\n"
     ]
    },
    {
     "name": "stderr",
     "output_type": "stream",
     "text": [
      " MAE loss: 3.06: 100%|██████████| 4200/4200 [00:07<00:00, 532.71it/s] \n"
     ]
    },
    {
     "name": "stdout",
     "output_type": "stream",
     "text": [
      "mae : 1.95 Validation MAE: 1.94\n",
      "Epoch 25\n"
     ]
    },
    {
     "name": "stderr",
     "output_type": "stream",
     "text": [
      " MAE loss: 2.92: 100%|██████████| 4200/4200 [00:08<00:00, 521.80it/s] \n"
     ]
    },
    {
     "name": "stdout",
     "output_type": "stream",
     "text": [
      "mae : 1.95 Validation MAE: 1.95\n",
      "Epoch 26\n"
     ]
    },
    {
     "name": "stderr",
     "output_type": "stream",
     "text": [
      " MAE loss: 3.32: 100%|██████████| 4200/4200 [00:07<00:00, 540.16it/s] \n"
     ]
    },
    {
     "name": "stdout",
     "output_type": "stream",
     "text": [
      "mae : 1.95 Validation MAE: 1.94\n",
      "Epoch 27\n"
     ]
    },
    {
     "name": "stderr",
     "output_type": "stream",
     "text": [
      " MAE loss: 2.89: 100%|██████████| 4200/4200 [00:07<00:00, 534.82it/s] \n"
     ]
    },
    {
     "name": "stdout",
     "output_type": "stream",
     "text": [
      "mae : 1.95 Validation MAE: 1.94\n",
      "Epoch 28\n"
     ]
    },
    {
     "name": "stderr",
     "output_type": "stream",
     "text": [
      " MAE loss: 3.52: 100%|██████████| 4200/4200 [00:07<00:00, 546.54it/s] \n"
     ]
    },
    {
     "name": "stdout",
     "output_type": "stream",
     "text": [
      "mae : 1.95 Validation MAE: 1.93\n",
      "Epoch 29\n"
     ]
    },
    {
     "name": "stderr",
     "output_type": "stream",
     "text": [
      " MAE loss: 2.56: 100%|██████████| 4200/4200 [00:07<00:00, 544.15it/s] \n"
     ]
    },
    {
     "name": "stdout",
     "output_type": "stream",
     "text": [
      "mae : 1.95 Validation MAE: 1.94\n",
      "Epoch 30\n"
     ]
    },
    {
     "name": "stderr",
     "output_type": "stream",
     "text": [
      " MAE loss: 2.69: 100%|██████████| 4200/4200 [00:07<00:00, 534.92it/s] \n"
     ]
    },
    {
     "name": "stdout",
     "output_type": "stream",
     "text": [
      "mae : 1.95 Validation MAE: 1.94\n"
     ]
    }
   ],
   "source": [
    "epochs = 30\n",
    "for e in range(epochs):\n",
    "    print(f\"Epoch {e+1}\")\n",
    "    train_loss,train_mae = train_loop(train_loader, model, loss_fn, optimizer)\n",
    "    valid_loss,valid_mae = valid_loop(test_loader, model, loss_fn)\n",
    "    train_history.append(train_loss)\n",
    "    valid_history.append(valid_loss)\n",
    "    train_mae_history.append(train_mae)\n",
    "    valid_mae_history.append(valid_mae)"
   ]
  },
  {
   "cell_type": "code",
   "execution_count": 25,
   "metadata": {
    "colab": {
     "base_uri": "https://localhost:8080/",
     "height": 695
    },
    "executionInfo": {
     "elapsed": 220,
     "status": "ok",
     "timestamp": 1742321313940,
     "user": {
      "displayName": "jihyung yun",
      "userId": "05665543950090663005"
     },
     "user_tz": -540
    },
    "id": "gtoFfS-9VsWE",
    "outputId": "12a3a1c9-487f-4711-84da-c29c6a050b1c"
   },
   "outputs": [
    {
     "data": {
      "text/plain": [
       "<matplotlib.legend.Legend at 0x2804c1cff80>"
      ]
     },
     "execution_count": 25,
     "metadata": {},
     "output_type": "execute_result"
    },
    {
     "data": {
      "image/png": "[encoded data removed]",
      "text/plain": [
       "<Figure size 1600x800 with 2 Axes>"
      ]
     },
     "metadata": {},
     "output_type": "display_data"
    }
   ],
   "source": [
    "f,a = plt.subplots(1,2,figsize = (16,8))\n",
    "a[0].plot(train_history,label = 'train')\n",
    "a[0].plot(valid_history,label = 'test')\n",
    "a[0].set_title('mse Loss')\n",
    "a[0].legend()\n",
    "\n",
    "a[1].plot(train_mae_history,label = 'train')\n",
    "a[1].plot(valid_mae_history,label = 'test')\n",
    "a[1].set_title('mae Loss')\n",
    "a[1].legend()"
   ]
  },
  {
   "cell_type": "code",
   "execution_count": null,
   "metadata": {
    "id": "fz5zJAQial4i"
   },
   "outputs": [],
   "source": [
    "# 데이터 많아서 오버피팅도 안된다"
   ]
  }
 ],
 "metadata": {
  "accelerator": "GPU",
  "colab": {
   "gpuType": "T4",
   "provenance": []
  },
  "kernelspec": {
   "display_name": "Python 3",
   "name": "python3"
  },
  "language_info": {
   "codemirror_mode": {
    "name": "ipython",
    "version": 3
   },
   "file_extension": ".py",
   "mimetype": "text/x-python",
   "name": "python",
   "nbconvert_exporter": "python",
   "pygments_lexer": "ipython3",
   "version": "3.12.1"
  }
 },
 "nbformat": 4,
 "nbformat_minor": 0
}

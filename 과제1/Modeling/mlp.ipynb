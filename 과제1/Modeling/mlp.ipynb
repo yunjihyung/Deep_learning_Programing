{
 "cells": [
  {
   "cell_type": "code",
   "execution_count": 1,
   "metadata": {
    "executionInfo": {
     "elapsed": 4571,
     "status": "ok",
     "timestamp": 1742319598167,
     "user": {
      "displayName": "jihyung yun",
      "userId": "05665543950090663005"
     },
     "user_tz": -540
    },
    "id": "IHVGIXFeVsV9"
   },
   "outputs": [],
   "source": [
    "import pandas as pd\n",
    "import torch\n",
    "from torch import nn\n",
    "from torch.utils.data import DataLoader, Dataset\n",
    "import numpy as np\n",
    "import matplotlib.pyplot as plt"
   ]
  },
  {
   "cell_type": "code",
   "execution_count": 2,
   "metadata": {
    "colab": {
     "base_uri": "https://localhost:8080/"
    },
    "executionInfo": {
     "elapsed": 18535,
     "status": "ok",
     "timestamp": 1742319616718,
     "user": {
      "displayName": "jihyung yun",
      "userId": "05665543950090663005"
     },
     "user_tz": -540
    },
    "id": "08joeyqcVxT9",
    "outputId": "26417d18-c2c0-4cd6-f58d-9a89bf874029"
   },
   "outputs": [
    {
     "name": "stdout",
     "output_type": "stream",
     "text": [
      "Mounted at /content/drive\n"
     ]
    }
   ],
   "source": [
    "from google.colab import drive\n",
    "drive.mount('/content/drive')"
   ]
  },
  {
   "cell_type": "code",
   "execution_count": 3,
   "metadata": {
    "executionInfo": {
     "elapsed": 5,
     "status": "ok",
     "timestamp": 1742319646445,
     "user": {
      "displayName": "jihyung yun",
      "userId": "05665543950090663005"
     },
     "user_tz": -540
    },
    "id": "0uzi2hSSVzQs"
   },
   "outputs": [],
   "source": [
    "import os\n",
    "os.chdir('/content/drive/MyDrive/과제1/Modeling')"
   ]
  },
  {
   "cell_type": "code",
   "execution_count": 6,
   "metadata": {
    "colab": {
     "base_uri": "https://localhost:8080/",
     "height": 36
    },
    "executionInfo": {
     "elapsed": 5,
     "status": "ok",
     "timestamp": 1742319666761,
     "user": {
      "displayName": "jihyung yun",
      "userId": "05665543950090663005"
     },
     "user_tz": -540
    },
    "id": "XR4jnIL6WD30",
    "outputId": "c571690f-81f2-4894-c069-216caa0d55bf"
   },
   "outputs": [
    {
     "data": {
      "application/vnd.google.colaboratory.intrinsic+json": {
       "type": "string"
      },
      "text/plain": [
       "'/content/drive/MyDrive/과제1/Modeling'"
      ]
     },
     "execution_count": 6,
     "metadata": {},
     "output_type": "execute_result"
    }
   ],
   "source": [
    "pwd"
   ]
  },
  {
   "cell_type": "code",
   "execution_count": 11,
   "metadata": {
    "colab": {
     "base_uri": "https://localhost:8080/",
     "height": 423
    },
    "executionInfo": {
     "elapsed": 175,
     "status": "ok",
     "timestamp": 1742319739368,
     "user": {
      "displayName": "jihyung yun",
      "userId": "05665543950090663005"
     },
     "user_tz": -540
    },
    "id": "sgulX05KVsWA",
    "outputId": "623eda8c-997b-451e-89af-c974c8e54315"
   },
   "outputs": [
    {
     "data": {
      "application/vnd.google.colaboratory.intrinsic+json": {
       "type": "dataframe",
       "variable_name": "df"
      },
      "text/html": [
       "\n",
       "  <div id=\"df-82820c10-041a-4255-9a1c-2b4a8e82a4f5\" class=\"colab-df-container\">\n",
       "    <div>\n",
       "<style scoped>\n",
       "    .dataframe tbody tr th:only-of-type {\n",
       "        vertical-align: middle;\n",
       "    }\n",
       "\n",
       "    .dataframe tbody tr th {\n",
       "        vertical-align: top;\n",
       "    }\n",
       "\n",
       "    .dataframe thead th {\n",
       "        text-align: right;\n",
       "    }\n",
       "</style>\n",
       "<table border=\"1\" class=\"dataframe\">\n",
       "  <thead>\n",
       "    <tr style=\"text-align: right;\">\n",
       "      <th></th>\n",
       "      <th>chest</th>\n",
       "      <th>arm</th>\n",
       "      <th>height</th>\n",
       "      <th>waist</th>\n",
       "      <th>crotch</th>\n",
       "      <th>head</th>\n",
       "      <th>foot</th>\n",
       "      <th>weight</th>\n",
       "    </tr>\n",
       "  </thead>\n",
       "  <tbody>\n",
       "    <tr>\n",
       "      <th>0</th>\n",
       "      <td>96.3</td>\n",
       "      <td>92.6</td>\n",
       "      <td>185.5</td>\n",
       "      <td>82.5</td>\n",
       "      <td>83.8</td>\n",
       "      <td>57.1</td>\n",
       "      <td>28.5</td>\n",
       "      <td>73.2</td>\n",
       "    </tr>\n",
       "    <tr>\n",
       "      <th>1</th>\n",
       "      <td>101.9</td>\n",
       "      <td>83.8</td>\n",
       "      <td>167.2</td>\n",
       "      <td>81.2</td>\n",
       "      <td>74.4</td>\n",
       "      <td>55.0</td>\n",
       "      <td>24.2</td>\n",
       "      <td>65.1</td>\n",
       "    </tr>\n",
       "    <tr>\n",
       "      <th>2</th>\n",
       "      <td>99.5</td>\n",
       "      <td>89.6</td>\n",
       "      <td>179.9</td>\n",
       "      <td>99.2</td>\n",
       "      <td>84.2</td>\n",
       "      <td>56.3</td>\n",
       "      <td>28.1</td>\n",
       "      <td>93.2</td>\n",
       "    </tr>\n",
       "    <tr>\n",
       "      <th>3</th>\n",
       "      <td>98.6</td>\n",
       "      <td>85.5</td>\n",
       "      <td>171.4</td>\n",
       "      <td>85.9</td>\n",
       "      <td>76.4</td>\n",
       "      <td>54.5</td>\n",
       "      <td>27.4</td>\n",
       "      <td>71.6</td>\n",
       "    </tr>\n",
       "    <tr>\n",
       "      <th>4</th>\n",
       "      <td>94.7</td>\n",
       "      <td>88.1</td>\n",
       "      <td>176.9</td>\n",
       "      <td>78.3</td>\n",
       "      <td>79.7</td>\n",
       "      <td>58.5</td>\n",
       "      <td>26.5</td>\n",
       "      <td>67.1</td>\n",
       "    </tr>\n",
       "    <tr>\n",
       "      <th>...</th>\n",
       "      <td>...</td>\n",
       "      <td>...</td>\n",
       "      <td>...</td>\n",
       "      <td>...</td>\n",
       "      <td>...</td>\n",
       "      <td>...</td>\n",
       "      <td>...</td>\n",
       "      <td>...</td>\n",
       "    </tr>\n",
       "    <tr>\n",
       "      <th>167974</th>\n",
       "      <td>100.6</td>\n",
       "      <td>86.4</td>\n",
       "      <td>173.2</td>\n",
       "      <td>86.7</td>\n",
       "      <td>77.1</td>\n",
       "      <td>56.9</td>\n",
       "      <td>27.1</td>\n",
       "      <td>73.7</td>\n",
       "    </tr>\n",
       "    <tr>\n",
       "      <th>167975</th>\n",
       "      <td>97.9</td>\n",
       "      <td>82.7</td>\n",
       "      <td>166.3</td>\n",
       "      <td>90.5</td>\n",
       "      <td>73.4</td>\n",
       "      <td>61.5</td>\n",
       "      <td>28.8</td>\n",
       "      <td>70.7</td>\n",
       "    </tr>\n",
       "    <tr>\n",
       "      <th>167976</th>\n",
       "      <td>97.9</td>\n",
       "      <td>87.2</td>\n",
       "      <td>175.2</td>\n",
       "      <td>94.3</td>\n",
       "      <td>83.1</td>\n",
       "      <td>57.1</td>\n",
       "      <td>27.6</td>\n",
       "      <td>78.7</td>\n",
       "    </tr>\n",
       "    <tr>\n",
       "      <th>167977</th>\n",
       "      <td>85.3</td>\n",
       "      <td>86.8</td>\n",
       "      <td>173.6</td>\n",
       "      <td>75.9</td>\n",
       "      <td>76.6</td>\n",
       "      <td>57.6</td>\n",
       "      <td>24.3</td>\n",
       "      <td>57.4</td>\n",
       "    </tr>\n",
       "    <tr>\n",
       "      <th>167978</th>\n",
       "      <td>86.6</td>\n",
       "      <td>88.3</td>\n",
       "      <td>175.8</td>\n",
       "      <td>73.0</td>\n",
       "      <td>77.8</td>\n",
       "      <td>56.3</td>\n",
       "      <td>26.1</td>\n",
       "      <td>51.7</td>\n",
       "    </tr>\n",
       "  </tbody>\n",
       "</table>\n",
       "<p>167979 rows × 8 columns</p>\n",
       "</div>\n",
       "    <div class=\"colab-df-buttons\">\n",
       "\n",
       "  <div class=\"colab-df-container\">\n",
       "    <button class=\"colab-df-convert\" onclick=\"convertToInteractive('df-82820c10-041a-4255-9a1c-2b4a8e82a4f5')\"\n",
       "            title=\"Convert this dataframe to an interactive table.\"\n",
       "            style=\"display:none;\">\n",
       "\n",
       "  <svg xmlns=\"http://www.w3.org/2000/svg\" height=\"24px\" viewBox=\"0 -960 960 960\">\n",
       "    <path d=\"M120-120v-720h720v720H120Zm60-500h600v-160H180v160Zm220 220h160v-160H400v160Zm0 220h160v-160H400v160ZM180-400h160v-160H180v160Zm440 0h160v-160H620v160ZM180-180h160v-160H180v160Zm440 0h160v-160H620v160Z\"/>\n",
       "  </svg>\n",
       "    </button>\n",
       "\n",
       "  <style>\n",
       "    .colab-df-container {\n",
       "      display:flex;\n",
       "      gap: 12px;\n",
       "    }\n",
       "\n",
       "    .colab-df-convert {\n",
       "      background-color: #E8F0FE;\n",
       "      border: none;\n",
       "      border-radius: 50%;\n",
       "      cursor: pointer;\n",
       "      display: none;\n",
       "      fill: #1967D2;\n",
       "      height: 32px;\n",
       "      padding: 0 0 0 0;\n",
       "      width: 32px;\n",
       "    }\n",
       "\n",
       "    .colab-df-convert:hover {\n",
       "      background-color: #E2EBFA;\n",
       "      box-shadow: 0px 1px 2px rgba(60, 64, 67, 0.3), 0px 1px 3px 1px rgba(60, 64, 67, 0.15);\n",
       "      fill: #174EA6;\n",
       "    }\n",
       "\n",
       "    .colab-df-buttons div {\n",
       "      margin-bottom: 4px;\n",
       "    }\n",
       "\n",
       "    [theme=dark] .colab-df-convert {\n",
       "      background-color: #3B4455;\n",
       "      fill: #D2E3FC;\n",
       "    }\n",
       "\n",
       "    [theme=dark] .colab-df-convert:hover {\n",
       "      background-color: #434B5C;\n",
       "      box-shadow: 0px 1px 3px 1px rgba(0, 0, 0, 0.15);\n",
       "      filter: drop-shadow(0px 1px 2px rgba(0, 0, 0, 0.3));\n",
       "      fill: #FFFFFF;\n",
       "    }\n",
       "  </style>\n",
       "\n",
       "    <script>\n",
       "      const buttonEl =\n",
       "        document.querySelector('#df-82820c10-041a-4255-9a1c-2b4a8e82a4f5 button.colab-df-convert');\n",
       "      buttonEl.style.display =\n",
       "        google.colab.kernel.accessAllowed ? 'block' : 'none';\n",
       "\n",
       "      async function convertToInteractive(key) {\n",
       "        const element = document.querySelector('#df-82820c10-041a-4255-9a1c-2b4a8e82a4f5');\n",
       "        const dataTable =\n",
       "          await google.colab.kernel.invokeFunction('convertToInteractive',\n",
       "                                                    [key], {});\n",
       "        if (!dataTable) return;\n",
       "\n",
       "        const docLinkHtml = 'Like what you see? Visit the ' +\n",
       "          '<a target=\"_blank\" href=https://colab.research.google.com/notebooks/data_table.ipynb>data table notebook</a>'\n",
       "          + ' to learn more about interactive tables.';\n",
       "        element.innerHTML = '';\n",
       "        dataTable['output_type'] = 'display_data';\n",
       "        await google.colab.output.renderOutput(dataTable, element);\n",
       "        const docLink = document.createElement('div');\n",
       "        docLink.innerHTML = docLinkHtml;\n",
       "        element.appendChild(docLink);\n",
       "      }\n",
       "    </script>\n",
       "  </div>\n",
       "\n",
       "\n",
       "<div id=\"df-485a157b-908a-4273-94a7-b9245630cae7\">\n",
       "  <button class=\"colab-df-quickchart\" onclick=\"quickchart('df-485a157b-908a-4273-94a7-b9245630cae7')\"\n",
       "            title=\"Suggest charts\"\n",
       "            style=\"display:none;\">\n",
       "\n",
       "<svg xmlns=\"http://www.w3.org/2000/svg\" height=\"24px\"viewBox=\"0 0 24 24\"\n",
       "     width=\"24px\">\n",
       "    <g>\n",
       "        <path d=\"M19 3H5c-1.1 0-2 .9-2 2v14c0 1.1.9 2 2 2h14c1.1 0 2-.9 2-2V5c0-1.1-.9-2-2-2zM9 17H7v-7h2v7zm4 0h-2V7h2v10zm4 0h-2v-4h2v4z\"/>\n",
       "    </g>\n",
       "</svg>\n",
       "  </button>\n",
       "\n",
       "<style>\n",
       "  .colab-df-quickchart {\n",
       "      --bg-color: #E8F0FE;\n",
       "      --fill-color: #1967D2;\n",
       "      --hover-bg-color: #E2EBFA;\n",
       "      --hover-fill-color: #174EA6;\n",
       "      --disabled-fill-color: #AAA;\n",
       "      --disabled-bg-color: #DDD;\n",
       "  }\n",
       "\n",
       "  [theme=dark] .colab-df-quickchart {\n",
       "      --bg-color: #3B4455;\n",
       "      --fill-color: #D2E3FC;\n",
       "      --hover-bg-color: #434B5C;\n",
       "      --hover-fill-color: #FFFFFF;\n",
       "      --disabled-bg-color: #3B4455;\n",
       "      --disabled-fill-color: #666;\n",
       "  }\n",
       "\n",
       "  .colab-df-quickchart {\n",
       "    background-color: var(--bg-color);\n",
       "    border: none;\n",
       "    border-radius: 50%;\n",
       "    cursor: pointer;\n",
       "    display: none;\n",
       "    fill: var(--fill-color);\n",
       "    height: 32px;\n",
       "    padding: 0;\n",
       "    width: 32px;\n",
       "  }\n",
       "\n",
       "  .colab-df-quickchart:hover {\n",
       "    background-color: var(--hover-bg-color);\n",
       "    box-shadow: 0 1px 2px rgba(60, 64, 67, 0.3), 0 1px 3px 1px rgba(60, 64, 67, 0.15);\n",
       "    fill: var(--button-hover-fill-color);\n",
       "  }\n",
       "\n",
       "  .colab-df-quickchart-complete:disabled,\n",
       "  .colab-df-quickchart-complete:disabled:hover {\n",
       "    background-color: var(--disabled-bg-color);\n",
       "    fill: var(--disabled-fill-color);\n",
       "    box-shadow: none;\n",
       "  }\n",
       "\n",
       "  .colab-df-spinner {\n",
       "    border: 2px solid var(--fill-color);\n",
       "    border-color: transparent;\n",
       "    border-bottom-color: var(--fill-color);\n",
       "    animation:\n",
       "      spin 1s steps(1) infinite;\n",
       "  }\n",
       "\n",
       "  @keyframes spin {\n",
       "    0% {\n",
       "      border-color: transparent;\n",
       "      border-bottom-color: var(--fill-color);\n",
       "      border-left-color: var(--fill-color);\n",
       "    }\n",
       "    20% {\n",
       "      border-color: transparent;\n",
       "      border-left-color: var(--fill-color);\n",
       "      border-top-color: var(--fill-color);\n",
       "    }\n",
       "    30% {\n",
       "      border-color: transparent;\n",
       "      border-left-color: var(--fill-color);\n",
       "      border-top-color: var(--fill-color);\n",
       "      border-right-color: var(--fill-color);\n",
       "    }\n",
       "    40% {\n",
       "      border-color: transparent;\n",
       "      border-right-color: var(--fill-color);\n",
       "      border-top-color: var(--fill-color);\n",
       "    }\n",
       "    60% {\n",
       "      border-color: transparent;\n",
       "      border-right-color: var(--fill-color);\n",
       "    }\n",
       "    80% {\n",
       "      border-color: transparent;\n",
       "      border-right-color: var(--fill-color);\n",
       "      border-bottom-color: var(--fill-color);\n",
       "    }\n",
       "    90% {\n",
       "      border-color: transparent;\n",
       "      border-bottom-color: var(--fill-color);\n",
       "    }\n",
       "  }\n",
       "</style>\n",
       "\n",
       "  <script>\n",
       "    async function quickchart(key) {\n",
       "      const quickchartButtonEl =\n",
       "        document.querySelector('#' + key + ' button');\n",
       "      quickchartButtonEl.disabled = true;  // To prevent multiple clicks.\n",
       "      quickchartButtonEl.classList.add('colab-df-spinner');\n",
       "      try {\n",
       "        const charts = await google.colab.kernel.invokeFunction(\n",
       "            'suggestCharts', [key], {});\n",
       "      } catch (error) {\n",
       "        console.error('Error during call to suggestCharts:', error);\n",
       "      }\n",
       "      quickchartButtonEl.classList.remove('colab-df-spinner');\n",
       "      quickchartButtonEl.classList.add('colab-df-quickchart-complete');\n",
       "    }\n",
       "    (() => {\n",
       "      let quickchartButtonEl =\n",
       "        document.querySelector('#df-485a157b-908a-4273-94a7-b9245630cae7 button');\n",
       "      quickchartButtonEl.style.display =\n",
       "        google.colab.kernel.accessAllowed ? 'block' : 'none';\n",
       "    })();\n",
       "  </script>\n",
       "</div>\n",
       "\n",
       "  <div id=\"id_47051098-810a-483c-bf03-3f768e305349\">\n",
       "    <style>\n",
       "      .colab-df-generate {\n",
       "        background-color: #E8F0FE;\n",
       "        border: none;\n",
       "        border-radius: 50%;\n",
       "        cursor: pointer;\n",
       "        display: none;\n",
       "        fill: #1967D2;\n",
       "        height: 32px;\n",
       "        padding: 0 0 0 0;\n",
       "        width: 32px;\n",
       "      }\n",
       "\n",
       "      .colab-df-generate:hover {\n",
       "        background-color: #E2EBFA;\n",
       "        box-shadow: 0px 1px 2px rgba(60, 64, 67, 0.3), 0px 1px 3px 1px rgba(60, 64, 67, 0.15);\n",
       "        fill: #174EA6;\n",
       "      }\n",
       "\n",
       "      [theme=dark] .colab-df-generate {\n",
       "        background-color: #3B4455;\n",
       "        fill: #D2E3FC;\n",
       "      }\n",
       "\n",
       "      [theme=dark] .colab-df-generate:hover {\n",
       "        background-color: #434B5C;\n",
       "        box-shadow: 0px 1px 3px 1px rgba(0, 0, 0, 0.15);\n",
       "        filter: drop-shadow(0px 1px 2px rgba(0, 0, 0, 0.3));\n",
       "        fill: #FFFFFF;\n",
       "      }\n",
       "    </style>\n",
       "    <button class=\"colab-df-generate\" onclick=\"generateWithVariable('df')\"\n",
       "            title=\"Generate code using this dataframe.\"\n",
       "            style=\"display:none;\">\n",
       "\n",
       "  <svg xmlns=\"http://www.w3.org/2000/svg\" height=\"24px\"viewBox=\"0 0 24 24\"\n",
       "       width=\"24px\">\n",
       "    <path d=\"M7,19H8.4L18.45,9,17,7.55,7,17.6ZM5,21V16.75L18.45,3.32a2,2,0,0,1,2.83,0l1.4,1.43a1.91,1.91,0,0,1,.58,1.4,1.91,1.91,0,0,1-.58,1.4L9.25,21ZM18.45,9,17,7.55Zm-12,3A5.31,5.31,0,0,0,4.9,8.1,5.31,5.31,0,0,0,1,6.5,5.31,5.31,0,0,0,4.9,4.9,5.31,5.31,0,0,0,6.5,1,5.31,5.31,0,0,0,8.1,4.9,5.31,5.31,0,0,0,12,6.5,5.46,5.46,0,0,0,6.5,12Z\"/>\n",
       "  </svg>\n",
       "    </button>\n",
       "    <script>\n",
       "      (() => {\n",
       "      const buttonEl =\n",
       "        document.querySelector('#id_47051098-810a-483c-bf03-3f768e305349 button.colab-df-generate');\n",
       "      buttonEl.style.display =\n",
       "        google.colab.kernel.accessAllowed ? 'block' : 'none';\n",
       "\n",
       "      buttonEl.onclick = () => {\n",
       "        google.colab.notebook.generateWithVariable('df');\n",
       "      }\n",
       "      })();\n",
       "    </script>\n",
       "  </div>\n",
       "\n",
       "    </div>\n",
       "  </div>\n"
      ],
      "text/plain": [
       "        chest   arm  height  waist  crotch  head  foot  weight\n",
       "0        96.3  92.6   185.5   82.5    83.8  57.1  28.5    73.2\n",
       "1       101.9  83.8   167.2   81.2    74.4  55.0  24.2    65.1\n",
       "2        99.5  89.6   179.9   99.2    84.2  56.3  28.1    93.2\n",
       "3        98.6  85.5   171.4   85.9    76.4  54.5  27.4    71.6\n",
       "4        94.7  88.1   176.9   78.3    79.7  58.5  26.5    67.1\n",
       "...       ...   ...     ...    ...     ...   ...   ...     ...\n",
       "167974  100.6  86.4   173.2   86.7    77.1  56.9  27.1    73.7\n",
       "167975   97.9  82.7   166.3   90.5    73.4  61.5  28.8    70.7\n",
       "167976   97.9  87.2   175.2   94.3    83.1  57.1  27.6    78.7\n",
       "167977   85.3  86.8   173.6   75.9    76.6  57.6  24.3    57.4\n",
       "167978   86.6  88.3   175.8   73.0    77.8  56.3  26.1    51.7\n",
       "\n",
       "[167979 rows x 8 columns]"
      ]
     },
     "execution_count": 11,
     "metadata": {},
     "output_type": "execute_result"
    }
   ],
   "source": [
    "df = pd.read_csv(r'../dataset/preprocessed.csv')\n",
    "df"
   ]
  },
  {
   "cell_type": "code",
   "execution_count": 12,
   "metadata": {
    "executionInfo": {
     "elapsed": 38,
     "status": "ok",
     "timestamp": 1742319743226,
     "user": {
      "displayName": "jihyung yun",
      "userId": "05665543950090663005"
     },
     "user_tz": -540
    },
    "id": "btLsFEe2VsWB"
   },
   "outputs": [],
   "source": [
    "class MyDataset(Dataset):\n",
    "    def __init__(self,x,y):\n",
    "        self.X = torch.tensor(x, dtype=torch.float32)\n",
    "        self.y = torch.tensor(y.values, dtype=torch.float32)\n",
    "    def __getitem__(self,idx):\n",
    "        return self.X[idx], self.y[idx]\n",
    "    def __len__(self):\n",
    "        return len(self.X)\n"
   ]
  },
  {
   "cell_type": "code",
   "execution_count": 13,
   "metadata": {
    "executionInfo": {
     "elapsed": 858,
     "status": "ok",
     "timestamp": 1742319744383,
     "user": {
      "displayName": "jihyung yun",
      "userId": "05665543950090663005"
     },
     "user_tz": -540
    },
    "id": "x9Sczv1TVsWC"
   },
   "outputs": [],
   "source": [
    "from sklearn.model_selection import train_test_split\n",
    "from sklearn.preprocessing import StandardScaler\n",
    "\n",
    "X = df.drop(['height','weight'],axis=1)\n",
    "y = df[['height','weight']]\n",
    "X_train, X_test, y_train, y_test = train_test_split(X, y, test_size=0.2, random_state=42)\n",
    "scaler = StandardScaler()\n",
    "train_scaled = scaler.fit_transform(X_train)\n",
    "test_scaled = scaler.transform(X_test)"
   ]
  },
  {
   "cell_type": "code",
   "execution_count": 14,
   "metadata": {
    "executionInfo": {
     "elapsed": 44,
     "status": "ok",
     "timestamp": 1742319744429,
     "user": {
      "displayName": "jihyung yun",
      "userId": "05665543950090663005"
     },
     "user_tz": -540
    },
    "id": "EcvjVwTeVsWC"
   },
   "outputs": [],
   "source": [
    "train_dataset = MyDataset(train_scaled, y_train)\n",
    "test_dataset = MyDataset(test_scaled, y_test)"
   ]
  },
  {
   "cell_type": "code",
   "execution_count": 15,
   "metadata": {
    "executionInfo": {
     "elapsed": 2,
     "status": "ok",
     "timestamp": 1742319744814,
     "user": {
      "displayName": "jihyung yun",
      "userId": "05665543950090663005"
     },
     "user_tz": -540
    },
    "id": "DPcBQz6mVsWD"
   },
   "outputs": [],
   "source": [
    "train_loader = DataLoader(train_dataset, batch_size=32, shuffle=True)\n",
    "test_loader = DataLoader(test_dataset, batch_size=32, shuffle=True)"
   ]
  },
  {
   "cell_type": "code",
   "execution_count": 63,
   "metadata": {
    "executionInfo": {
     "elapsed": 3,
     "status": "ok",
     "timestamp": 1742321133100,
     "user": {
      "displayName": "jihyung yun",
      "userId": "05665543950090663005"
     },
     "user_tz": -540
    },
    "id": "CxX4vMdrVsWD"
   },
   "outputs": [],
   "source": [
    "model = nn.Sequential(\n",
    "    nn.Linear(6, 128),\n",
    "    nn.Sigmoid(),\n",
    "    nn.Linear(128, 64),\n",
    "    nn.Sigmoid(),\n",
    "    nn.Linear(64, 32),\n",
    "     nn.Sigmoid(),\n",
    "    nn.Linear(32, 2)\n",
    ")\n",
    "loss_fn = nn.MSELoss()\n",
    "optimizer = torch.optim.Adam(model.parameters(), lr=0.001)"
   ]
  },
  {
   "cell_type": "code",
   "execution_count": 64,
   "metadata": {
    "executionInfo": {
     "elapsed": 1,
     "status": "ok",
     "timestamp": 1742321135558,
     "user": {
      "displayName": "jihyung yun",
      "userId": "05665543950090663005"
     },
     "user_tz": -540
    },
    "id": "uKSUpb1BVsWE"
   },
   "outputs": [],
   "source": [
    "from tqdm import tqdm\n",
    "def train_loop(dataloader, model, loss_fn, optimizer):\n",
    "    model.to('cuda')\n",
    "    t_bar = tqdm(dataloader)\n",
    "    losses = 0\n",
    "    for X, y in t_bar:\n",
    "        X = X.to('cuda')\n",
    "        y = y.to('cuda')\n",
    "        pred = model(X)\n",
    "        loss = loss_fn(pred, y)\n",
    "        loss.backward()\n",
    "        optimizer.step()\n",
    "        optimizer.zero_grad()\n",
    "        t_bar.set_description(f\" MAE loss: {pow(loss,0.5):.2f}\")\n",
    "        losses += loss.item()\n",
    "    return pow(losses / len(dataloader),0.5)\n",
    "def valid_loop(dataloader, model, loss_fn):\n",
    "    losses = 0\n",
    "    with torch.no_grad():\n",
    "      for X, y in dataloader:\n",
    "          X = X.to('cuda')\n",
    "          y = y.to('cuda')\n",
    "          pred = model(X)\n",
    "          losses += loss_fn(pred, y).item()\n",
    "    print(f\"Validation MAE loss: {pow(losses / len(dataloader),0.5):.2f}\")\n",
    "    return pow(losses / len(dataloader),0.5)"
   ]
  },
  {
   "cell_type": "code",
   "execution_count": 65,
   "metadata": {
    "executionInfo": {
     "elapsed": 42,
     "status": "ok",
     "timestamp": 1742321135765,
     "user": {
      "displayName": "jihyung yun",
      "userId": "05665543950090663005"
     },
     "user_tz": -540
    },
    "id": "osxKn4qla2gO"
   },
   "outputs": [],
   "source": [
    "train_histtory = []\n",
    "valid_history = []"
   ]
  },
  {
   "cell_type": "code",
   "execution_count": 66,
   "metadata": {
    "colab": {
     "base_uri": "https://localhost:8080/"
    },
    "executionInfo": {
     "elapsed": 172575,
     "status": "ok",
     "timestamp": 1742321308739,
     "user": {
      "displayName": "jihyung yun",
      "userId": "05665543950090663005"
     },
     "user_tz": -540
    },
    "id": "XOAJx76eVsWE",
    "outputId": "e2b1d031-4c41-4964-f53d-1dd47b645ac6"
   },
   "outputs": [
    {
     "name": "stdout",
     "output_type": "stream",
     "text": [
      "Epoch 1\n"
     ]
    },
    {
     "name": "stderr",
     "output_type": "stream",
     "text": [
      " MAE loss: 43.24: 100%|██████████| 4200/4200 [00:16<00:00, 252.92it/s]\n"
     ]
    },
    {
     "name": "stdout",
     "output_type": "stream",
     "text": [
      "Validation MAE loss: 43.98\n",
      "Epoch 2\n"
     ]
    },
    {
     "name": "stderr",
     "output_type": "stream",
     "text": [
      " MAE loss: 12.97: 100%|██████████| 4200/4200 [00:16<00:00, 254.70it/s]\n"
     ]
    },
    {
     "name": "stdout",
     "output_type": "stream",
     "text": [
      "Validation MAE loss: 10.50\n",
      "Epoch 3\n"
     ]
    },
    {
     "name": "stderr",
     "output_type": "stream",
     "text": [
      " MAE loss: 7.47: 100%|██████████| 4200/4200 [00:16<00:00, 253.10it/s]\n"
     ]
    },
    {
     "name": "stdout",
     "output_type": "stream",
     "text": [
      "Validation MAE loss: 7.17\n",
      "Epoch 4\n"
     ]
    },
    {
     "name": "stderr",
     "output_type": "stream",
     "text": [
      " MAE loss: 4.37: 100%|██████████| 4200/4200 [00:16<00:00, 252.60it/s]\n"
     ]
    },
    {
     "name": "stdout",
     "output_type": "stream",
     "text": [
      "Validation MAE loss: 3.84\n",
      "Epoch 5\n"
     ]
    },
    {
     "name": "stderr",
     "output_type": "stream",
     "text": [
      " MAE loss: 2.19: 100%|██████████| 4200/4200 [00:16<00:00, 256.21it/s]\n"
     ]
    },
    {
     "name": "stdout",
     "output_type": "stream",
     "text": [
      "Validation MAE loss: 3.43\n",
      "Epoch 6\n"
     ]
    },
    {
     "name": "stderr",
     "output_type": "stream",
     "text": [
      " MAE loss: 3.59: 100%|██████████| 4200/4200 [00:16<00:00, 255.51it/s]\n"
     ]
    },
    {
     "name": "stdout",
     "output_type": "stream",
     "text": [
      "Validation MAE loss: 3.34\n",
      "Epoch 7\n"
     ]
    },
    {
     "name": "stderr",
     "output_type": "stream",
     "text": [
      " MAE loss: 1.91: 100%|██████████| 4200/4200 [00:16<00:00, 255.20it/s]\n"
     ]
    },
    {
     "name": "stdout",
     "output_type": "stream",
     "text": [
      "Validation MAE loss: 3.32\n",
      "Epoch 8\n"
     ]
    },
    {
     "name": "stderr",
     "output_type": "stream",
     "text": [
      " MAE loss: 2.28: 100%|██████████| 4200/4200 [00:16<00:00, 254.02it/s]\n"
     ]
    },
    {
     "name": "stdout",
     "output_type": "stream",
     "text": [
      "Validation MAE loss: 3.29\n",
      "Epoch 9\n"
     ]
    },
    {
     "name": "stderr",
     "output_type": "stream",
     "text": [
      " MAE loss: 2.72: 100%|██████████| 4200/4200 [00:16<00:00, 253.97it/s]\n"
     ]
    },
    {
     "name": "stdout",
     "output_type": "stream",
     "text": [
      "Validation MAE loss: 3.30\n",
      "Epoch 10\n"
     ]
    },
    {
     "name": "stderr",
     "output_type": "stream",
     "text": [
      " MAE loss: 3.77: 100%|██████████| 4200/4200 [00:16<00:00, 256.63it/s]\n"
     ]
    },
    {
     "name": "stdout",
     "output_type": "stream",
     "text": [
      "Validation MAE loss: 3.28\n"
     ]
    }
   ],
   "source": [
    "epochs = 10\n",
    "for e in range(epochs):\n",
    "    print(f\"Epoch {e+1}\")\n",
    "    train_loss = train_loop(train_loader, model, loss_fn, optimizer)\n",
    "    valid_loss = valid_loop(test_loader, model, loss_fn)\n",
    "    train_histtory.append(train_loss)\n",
    "    valid_history.append(valid_loss)"
   ]
  },
  {
   "cell_type": "code",
   "execution_count": 67,
   "metadata": {
    "colab": {
     "base_uri": "https://localhost:8080/",
     "height": 695
    },
    "executionInfo": {
     "elapsed": 220,
     "status": "ok",
     "timestamp": 1742321313940,
     "user": {
      "displayName": "jihyung yun",
      "userId": "05665543950090663005"
     },
     "user_tz": -540
    },
    "id": "gtoFfS-9VsWE",
    "outputId": "12a3a1c9-487f-4711-84da-c29c6a050b1c"
   },
   "outputs": [
    {
     "data": {
      "text/plain": [
       "<matplotlib.legend.Legend at 0x7a435c417290>"
      ]
     },
     "execution_count": 67,
     "metadata": {},
     "output_type": "execute_result"
    },
    {
     "data": {
      "image/png": "[encoded data removed]",
      "text/plain": [
       "<Figure size 1600x800 with 1 Axes>"
      ]
     },
     "metadata": {},
     "output_type": "display_data"
    }
   ],
   "source": [
    "f,a = plt.subplots(1,1,figsize = (16,8))\n",
    "a.plot(train_histtory,label = 'train')\n",
    "a.plot(valid_history,label = 'test')\n",
    "a.legend()\n"
   ]
  },
  {
   "cell_type": "code",
   "execution_count": 68,
   "metadata": {
    "colab": {
     "base_uri": "https://localhost:8080/"
    },
    "executionInfo": {
     "elapsed": 6,
     "status": "ok",
     "timestamp": 1742321319980,
     "user": {
      "displayName": "jihyung yun",
      "userId": "05665543950090663005"
     },
     "user_tz": -540
    },
    "id": "SwnWaADYamNR",
    "outputId": "7a58bb59-d1af-4eef-9513-51c7110b78e4"
   },
   "outputs": [
    {
     "data": {
      "text/plain": [
       "[86.8943907330902,\n",
       " 23.65782149129161,\n",
       " 10.066296492565646,\n",
       " 5.182318405118901,\n",
       " 3.5927560251489696,\n",
       " 3.394969856697357,\n",
       " 3.343121146736512,\n",
       " 3.319971814677466,\n",
       " 3.309732012083789,\n",
       " 3.3011479572853273]"
      ]
     },
     "execution_count": 68,
     "metadata": {},
     "output_type": "execute_result"
    }
   ],
   "source": [
    "train_histtory"
   ]
  },
  {
   "cell_type": "code",
   "execution_count": null,
   "metadata": {
    "id": "fz5zJAQial4i"
   },
   "outputs": [],
   "source": [
    "# 데이터 많아서 오버피팅도 안된다"
   ]
  }
 ],
 "metadata": {
  "accelerator": "GPU",
  "colab": {
   "gpuType": "T4",
   "provenance": []
  },
  "kernelspec": {
   "display_name": "Python 3",
   "name": "python3"
  },
  "language_info": {
   "codemirror_mode": {
    "name": "ipython",
    "version": 3
   },
   "file_extension": ".py",
   "mimetype": "text/x-python",
   "name": "python",
   "nbconvert_exporter": "python",
   "pygments_lexer": "ipython3",
   "version": "3.12.1"
  }
 },
 "nbformat": 4,
 "nbformat_minor": 0
}
